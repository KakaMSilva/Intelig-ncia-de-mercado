{
  "nbformat": 4,
  "nbformat_minor": 0,
  "metadata": {
    "colab": {
      "provenance": []
    },
    "kernelspec": {
      "name": "python3",
      "display_name": "Python 3"
    },
    "language_info": {
      "name": "python"
    }
  },
  "cells": [
    {
      "cell_type": "markdown",
      "source": [
        "# **Importação e tratamento**"
      ],
      "metadata": {
        "id": "trgall_1z_eZ"
      }
    },
    {
      "cell_type": "code",
      "source": [
        "import numpy as np\n",
        "import pandas as pd\n",
        "\n",
        "produtosdf = pd.read_csv('/content/Planilha sem título - produtos.csv', sep=',')\n",
        "vendasdf = pd.read_csv('/content/Teste visualização de dados - vendas.csv', sep=',')"
      ],
      "metadata": {
        "id": "I4knJKJ1jmrQ"
      },
      "execution_count": 1,
      "outputs": []
    },
    {
      "cell_type": "code",
      "source": [
        "produtosdf.head()"
      ],
      "metadata": {
        "colab": {
          "base_uri": "https://localhost:8080/",
          "height": 206
        },
        "id": "_Y47QTd2zXjm",
        "outputId": "5b962d2d-2520-4003-dee2-c2f404b3d252"
      },
      "execution_count": 2,
      "outputs": [
        {
          "output_type": "execute_result",
          "data": {
            "text/plain": [
              "   ID_PRODUTO NOME_PRODUTO  PREÇO_KG PESO_MEDIO_UNITARIO_KG\n",
              "0           1       Banana     4,79                    0,86\n",
              "1           2         Maçã     3,55                    0,13\n",
              "2           3         Pêra    14,44                   0,137\n",
              "3           4    Tangerina     3,33                   0,148\n",
              "4           5    Carambola    31,42                    0,22"
            ],
            "text/html": [
              "\n",
              "  <div id=\"df-f921fffe-8fa6-4341-87d2-e7f3bc4879f0\">\n",
              "    <div class=\"colab-df-container\">\n",
              "      <div>\n",
              "<style scoped>\n",
              "    .dataframe tbody tr th:only-of-type {\n",
              "        vertical-align: middle;\n",
              "    }\n",
              "\n",
              "    .dataframe tbody tr th {\n",
              "        vertical-align: top;\n",
              "    }\n",
              "\n",
              "    .dataframe thead th {\n",
              "        text-align: right;\n",
              "    }\n",
              "</style>\n",
              "<table border=\"1\" class=\"dataframe\">\n",
              "  <thead>\n",
              "    <tr style=\"text-align: right;\">\n",
              "      <th></th>\n",
              "      <th>ID_PRODUTO</th>\n",
              "      <th>NOME_PRODUTO</th>\n",
              "      <th>PREÇO_KG</th>\n",
              "      <th>PESO_MEDIO_UNITARIO_KG</th>\n",
              "    </tr>\n",
              "  </thead>\n",
              "  <tbody>\n",
              "    <tr>\n",
              "      <th>0</th>\n",
              "      <td>1</td>\n",
              "      <td>Banana</td>\n",
              "      <td>4,79</td>\n",
              "      <td>0,86</td>\n",
              "    </tr>\n",
              "    <tr>\n",
              "      <th>1</th>\n",
              "      <td>2</td>\n",
              "      <td>Maçã</td>\n",
              "      <td>3,55</td>\n",
              "      <td>0,13</td>\n",
              "    </tr>\n",
              "    <tr>\n",
              "      <th>2</th>\n",
              "      <td>3</td>\n",
              "      <td>Pêra</td>\n",
              "      <td>14,44</td>\n",
              "      <td>0,137</td>\n",
              "    </tr>\n",
              "    <tr>\n",
              "      <th>3</th>\n",
              "      <td>4</td>\n",
              "      <td>Tangerina</td>\n",
              "      <td>3,33</td>\n",
              "      <td>0,148</td>\n",
              "    </tr>\n",
              "    <tr>\n",
              "      <th>4</th>\n",
              "      <td>5</td>\n",
              "      <td>Carambola</td>\n",
              "      <td>31,42</td>\n",
              "      <td>0,22</td>\n",
              "    </tr>\n",
              "  </tbody>\n",
              "</table>\n",
              "</div>\n",
              "      <button class=\"colab-df-convert\" onclick=\"convertToInteractive('df-f921fffe-8fa6-4341-87d2-e7f3bc4879f0')\"\n",
              "              title=\"Convert this dataframe to an interactive table.\"\n",
              "              style=\"display:none;\">\n",
              "        \n",
              "  <svg xmlns=\"http://www.w3.org/2000/svg\" height=\"24px\"viewBox=\"0 0 24 24\"\n",
              "       width=\"24px\">\n",
              "    <path d=\"M0 0h24v24H0V0z\" fill=\"none\"/>\n",
              "    <path d=\"M18.56 5.44l.94 2.06.94-2.06 2.06-.94-2.06-.94-.94-2.06-.94 2.06-2.06.94zm-11 1L8.5 8.5l.94-2.06 2.06-.94-2.06-.94L8.5 2.5l-.94 2.06-2.06.94zm10 10l.94 2.06.94-2.06 2.06-.94-2.06-.94-.94-2.06-.94 2.06-2.06.94z\"/><path d=\"M17.41 7.96l-1.37-1.37c-.4-.4-.92-.59-1.43-.59-.52 0-1.04.2-1.43.59L10.3 9.45l-7.72 7.72c-.78.78-.78 2.05 0 2.83L4 21.41c.39.39.9.59 1.41.59.51 0 1.02-.2 1.41-.59l7.78-7.78 2.81-2.81c.8-.78.8-2.07 0-2.86zM5.41 20L4 18.59l7.72-7.72 1.47 1.35L5.41 20z\"/>\n",
              "  </svg>\n",
              "      </button>\n",
              "      \n",
              "  <style>\n",
              "    .colab-df-container {\n",
              "      display:flex;\n",
              "      flex-wrap:wrap;\n",
              "      gap: 12px;\n",
              "    }\n",
              "\n",
              "    .colab-df-convert {\n",
              "      background-color: #E8F0FE;\n",
              "      border: none;\n",
              "      border-radius: 50%;\n",
              "      cursor: pointer;\n",
              "      display: none;\n",
              "      fill: #1967D2;\n",
              "      height: 32px;\n",
              "      padding: 0 0 0 0;\n",
              "      width: 32px;\n",
              "    }\n",
              "\n",
              "    .colab-df-convert:hover {\n",
              "      background-color: #E2EBFA;\n",
              "      box-shadow: 0px 1px 2px rgba(60, 64, 67, 0.3), 0px 1px 3px 1px rgba(60, 64, 67, 0.15);\n",
              "      fill: #174EA6;\n",
              "    }\n",
              "\n",
              "    [theme=dark] .colab-df-convert {\n",
              "      background-color: #3B4455;\n",
              "      fill: #D2E3FC;\n",
              "    }\n",
              "\n",
              "    [theme=dark] .colab-df-convert:hover {\n",
              "      background-color: #434B5C;\n",
              "      box-shadow: 0px 1px 3px 1px rgba(0, 0, 0, 0.15);\n",
              "      filter: drop-shadow(0px 1px 2px rgba(0, 0, 0, 0.3));\n",
              "      fill: #FFFFFF;\n",
              "    }\n",
              "  </style>\n",
              "\n",
              "      <script>\n",
              "        const buttonEl =\n",
              "          document.querySelector('#df-f921fffe-8fa6-4341-87d2-e7f3bc4879f0 button.colab-df-convert');\n",
              "        buttonEl.style.display =\n",
              "          google.colab.kernel.accessAllowed ? 'block' : 'none';\n",
              "\n",
              "        async function convertToInteractive(key) {\n",
              "          const element = document.querySelector('#df-f921fffe-8fa6-4341-87d2-e7f3bc4879f0');\n",
              "          const dataTable =\n",
              "            await google.colab.kernel.invokeFunction('convertToInteractive',\n",
              "                                                     [key], {});\n",
              "          if (!dataTable) return;\n",
              "\n",
              "          const docLinkHtml = 'Like what you see? Visit the ' +\n",
              "            '<a target=\"_blank\" href=https://colab.research.google.com/notebooks/data_table.ipynb>data table notebook</a>'\n",
              "            + ' to learn more about interactive tables.';\n",
              "          element.innerHTML = '';\n",
              "          dataTable['output_type'] = 'display_data';\n",
              "          await google.colab.output.renderOutput(dataTable, element);\n",
              "          const docLink = document.createElement('div');\n",
              "          docLink.innerHTML = docLinkHtml;\n",
              "          element.appendChild(docLink);\n",
              "        }\n",
              "      </script>\n",
              "    </div>\n",
              "  </div>\n",
              "  "
            ]
          },
          "metadata": {},
          "execution_count": 2
        }
      ]
    },
    {
      "cell_type": "code",
      "source": [
        "vendasdf.head()"
      ],
      "metadata": {
        "colab": {
          "base_uri": "https://localhost:8080/",
          "height": 206
        },
        "id": "9KL9BvUwnxIS",
        "outputId": "363da66e-d62c-4c93-f80b-69819d5a18f6"
      },
      "execution_count": 3,
      "outputs": [
        {
          "output_type": "execute_result",
          "data": {
            "text/plain": [
              "       DATA  ID_PRODUTO VALOR_VENDA FAIXA_HORARIO\n",
              "0  8/1/2021           6       25,25         10:00\n",
              "1  8/1/2021           3        25,4          7:00\n",
              "2  8/1/2021          13       15,38         13:00\n",
              "3  8/1/2021           5       26,88         14:00\n",
              "4  8/1/2021           6        8,37         11:00"
            ],
            "text/html": [
              "\n",
              "  <div id=\"df-d67fc028-0d50-417a-861b-82dc289d88f4\">\n",
              "    <div class=\"colab-df-container\">\n",
              "      <div>\n",
              "<style scoped>\n",
              "    .dataframe tbody tr th:only-of-type {\n",
              "        vertical-align: middle;\n",
              "    }\n",
              "\n",
              "    .dataframe tbody tr th {\n",
              "        vertical-align: top;\n",
              "    }\n",
              "\n",
              "    .dataframe thead th {\n",
              "        text-align: right;\n",
              "    }\n",
              "</style>\n",
              "<table border=\"1\" class=\"dataframe\">\n",
              "  <thead>\n",
              "    <tr style=\"text-align: right;\">\n",
              "      <th></th>\n",
              "      <th>DATA</th>\n",
              "      <th>ID_PRODUTO</th>\n",
              "      <th>VALOR_VENDA</th>\n",
              "      <th>FAIXA_HORARIO</th>\n",
              "    </tr>\n",
              "  </thead>\n",
              "  <tbody>\n",
              "    <tr>\n",
              "      <th>0</th>\n",
              "      <td>8/1/2021</td>\n",
              "      <td>6</td>\n",
              "      <td>25,25</td>\n",
              "      <td>10:00</td>\n",
              "    </tr>\n",
              "    <tr>\n",
              "      <th>1</th>\n",
              "      <td>8/1/2021</td>\n",
              "      <td>3</td>\n",
              "      <td>25,4</td>\n",
              "      <td>7:00</td>\n",
              "    </tr>\n",
              "    <tr>\n",
              "      <th>2</th>\n",
              "      <td>8/1/2021</td>\n",
              "      <td>13</td>\n",
              "      <td>15,38</td>\n",
              "      <td>13:00</td>\n",
              "    </tr>\n",
              "    <tr>\n",
              "      <th>3</th>\n",
              "      <td>8/1/2021</td>\n",
              "      <td>5</td>\n",
              "      <td>26,88</td>\n",
              "      <td>14:00</td>\n",
              "    </tr>\n",
              "    <tr>\n",
              "      <th>4</th>\n",
              "      <td>8/1/2021</td>\n",
              "      <td>6</td>\n",
              "      <td>8,37</td>\n",
              "      <td>11:00</td>\n",
              "    </tr>\n",
              "  </tbody>\n",
              "</table>\n",
              "</div>\n",
              "      <button class=\"colab-df-convert\" onclick=\"convertToInteractive('df-d67fc028-0d50-417a-861b-82dc289d88f4')\"\n",
              "              title=\"Convert this dataframe to an interactive table.\"\n",
              "              style=\"display:none;\">\n",
              "        \n",
              "  <svg xmlns=\"http://www.w3.org/2000/svg\" height=\"24px\"viewBox=\"0 0 24 24\"\n",
              "       width=\"24px\">\n",
              "    <path d=\"M0 0h24v24H0V0z\" fill=\"none\"/>\n",
              "    <path d=\"M18.56 5.44l.94 2.06.94-2.06 2.06-.94-2.06-.94-.94-2.06-.94 2.06-2.06.94zm-11 1L8.5 8.5l.94-2.06 2.06-.94-2.06-.94L8.5 2.5l-.94 2.06-2.06.94zm10 10l.94 2.06.94-2.06 2.06-.94-2.06-.94-.94-2.06-.94 2.06-2.06.94z\"/><path d=\"M17.41 7.96l-1.37-1.37c-.4-.4-.92-.59-1.43-.59-.52 0-1.04.2-1.43.59L10.3 9.45l-7.72 7.72c-.78.78-.78 2.05 0 2.83L4 21.41c.39.39.9.59 1.41.59.51 0 1.02-.2 1.41-.59l7.78-7.78 2.81-2.81c.8-.78.8-2.07 0-2.86zM5.41 20L4 18.59l7.72-7.72 1.47 1.35L5.41 20z\"/>\n",
              "  </svg>\n",
              "      </button>\n",
              "      \n",
              "  <style>\n",
              "    .colab-df-container {\n",
              "      display:flex;\n",
              "      flex-wrap:wrap;\n",
              "      gap: 12px;\n",
              "    }\n",
              "\n",
              "    .colab-df-convert {\n",
              "      background-color: #E8F0FE;\n",
              "      border: none;\n",
              "      border-radius: 50%;\n",
              "      cursor: pointer;\n",
              "      display: none;\n",
              "      fill: #1967D2;\n",
              "      height: 32px;\n",
              "      padding: 0 0 0 0;\n",
              "      width: 32px;\n",
              "    }\n",
              "\n",
              "    .colab-df-convert:hover {\n",
              "      background-color: #E2EBFA;\n",
              "      box-shadow: 0px 1px 2px rgba(60, 64, 67, 0.3), 0px 1px 3px 1px rgba(60, 64, 67, 0.15);\n",
              "      fill: #174EA6;\n",
              "    }\n",
              "\n",
              "    [theme=dark] .colab-df-convert {\n",
              "      background-color: #3B4455;\n",
              "      fill: #D2E3FC;\n",
              "    }\n",
              "\n",
              "    [theme=dark] .colab-df-convert:hover {\n",
              "      background-color: #434B5C;\n",
              "      box-shadow: 0px 1px 3px 1px rgba(0, 0, 0, 0.15);\n",
              "      filter: drop-shadow(0px 1px 2px rgba(0, 0, 0, 0.3));\n",
              "      fill: #FFFFFF;\n",
              "    }\n",
              "  </style>\n",
              "\n",
              "      <script>\n",
              "        const buttonEl =\n",
              "          document.querySelector('#df-d67fc028-0d50-417a-861b-82dc289d88f4 button.colab-df-convert');\n",
              "        buttonEl.style.display =\n",
              "          google.colab.kernel.accessAllowed ? 'block' : 'none';\n",
              "\n",
              "        async function convertToInteractive(key) {\n",
              "          const element = document.querySelector('#df-d67fc028-0d50-417a-861b-82dc289d88f4');\n",
              "          const dataTable =\n",
              "            await google.colab.kernel.invokeFunction('convertToInteractive',\n",
              "                                                     [key], {});\n",
              "          if (!dataTable) return;\n",
              "\n",
              "          const docLinkHtml = 'Like what you see? Visit the ' +\n",
              "            '<a target=\"_blank\" href=https://colab.research.google.com/notebooks/data_table.ipynb>data table notebook</a>'\n",
              "            + ' to learn more about interactive tables.';\n",
              "          element.innerHTML = '';\n",
              "          dataTable['output_type'] = 'display_data';\n",
              "          await google.colab.output.renderOutput(dataTable, element);\n",
              "          const docLink = document.createElement('div');\n",
              "          docLink.innerHTML = docLinkHtml;\n",
              "          element.appendChild(docLink);\n",
              "        }\n",
              "      </script>\n",
              "    </div>\n",
              "  </div>\n",
              "  "
            ]
          },
          "metadata": {},
          "execution_count": 3
        }
      ]
    },
    {
      "cell_type": "code",
      "source": [
        "vendasdf.info()"
      ],
      "metadata": {
        "colab": {
          "base_uri": "https://localhost:8080/"
        },
        "id": "-Op4b4ODoI2y",
        "outputId": "6b7cb547-99e5-4318-b361-7ac6e0776b80"
      },
      "execution_count": 4,
      "outputs": [
        {
          "output_type": "stream",
          "name": "stdout",
          "text": [
            "<class 'pandas.core.frame.DataFrame'>\n",
            "RangeIndex: 9806 entries, 0 to 9805\n",
            "Data columns (total 4 columns):\n",
            " #   Column         Non-Null Count  Dtype \n",
            "---  ------         --------------  ----- \n",
            " 0   DATA           9806 non-null   object\n",
            " 1   ID_PRODUTO     9806 non-null   int64 \n",
            " 2   VALOR_VENDA    9806 non-null   object\n",
            " 3   FAIXA_HORARIO  9806 non-null   object\n",
            "dtypes: int64(1), object(3)\n",
            "memory usage: 306.6+ KB\n"
          ]
        }
      ]
    },
    {
      "cell_type": "code",
      "source": [
        "vendasdf['ID_PRODUTO'] = vendasdf['ID_PRODUTO'].astype('object')"
      ],
      "metadata": {
        "id": "WpuuKNkosJac"
      },
      "execution_count": 5,
      "outputs": []
    },
    {
      "cell_type": "code",
      "source": [
        "vendasdf['VALOR_VENDA'] = pd.to_numeric(vendasdf['VALOR_VENDA'].str.replace(',', '.'), errors='coerce')"
      ],
      "metadata": {
        "id": "jSzba3rSs3O8"
      },
      "execution_count": 6,
      "outputs": []
    },
    {
      "cell_type": "code",
      "source": [
        "vendasdf['DATA'] = pd.to_datetime(vendasdf['DATA'], format='%m/%d/%Y')"
      ],
      "metadata": {
        "id": "LCccLMJnx0Su"
      },
      "execution_count": 7,
      "outputs": []
    },
    {
      "cell_type": "code",
      "source": [
        "descricao = vendasdf.describe()\n",
        "descricao = descricao.round(2)\n",
        "descricao"
      ],
      "metadata": {
        "colab": {
          "base_uri": "https://localhost:8080/",
          "height": 300
        },
        "id": "GtVKirVRqP4E",
        "outputId": "05cf65db-d622-45f8-a663-42582931d598"
      },
      "execution_count": 8,
      "outputs": [
        {
          "output_type": "execute_result",
          "data": {
            "text/plain": [
              "       VALOR_VENDA\n",
              "count      9806.00\n",
              "mean         16.36\n",
              "std           8.59\n",
              "min           1.50\n",
              "25%           9.00\n",
              "50%          16.32\n",
              "75%          23.71\n",
              "max          35.95"
            ],
            "text/html": [
              "\n",
              "  <div id=\"df-d1c903ec-75f0-4573-935a-241588379cba\">\n",
              "    <div class=\"colab-df-container\">\n",
              "      <div>\n",
              "<style scoped>\n",
              "    .dataframe tbody tr th:only-of-type {\n",
              "        vertical-align: middle;\n",
              "    }\n",
              "\n",
              "    .dataframe tbody tr th {\n",
              "        vertical-align: top;\n",
              "    }\n",
              "\n",
              "    .dataframe thead th {\n",
              "        text-align: right;\n",
              "    }\n",
              "</style>\n",
              "<table border=\"1\" class=\"dataframe\">\n",
              "  <thead>\n",
              "    <tr style=\"text-align: right;\">\n",
              "      <th></th>\n",
              "      <th>VALOR_VENDA</th>\n",
              "    </tr>\n",
              "  </thead>\n",
              "  <tbody>\n",
              "    <tr>\n",
              "      <th>count</th>\n",
              "      <td>9806.00</td>\n",
              "    </tr>\n",
              "    <tr>\n",
              "      <th>mean</th>\n",
              "      <td>16.36</td>\n",
              "    </tr>\n",
              "    <tr>\n",
              "      <th>std</th>\n",
              "      <td>8.59</td>\n",
              "    </tr>\n",
              "    <tr>\n",
              "      <th>min</th>\n",
              "      <td>1.50</td>\n",
              "    </tr>\n",
              "    <tr>\n",
              "      <th>25%</th>\n",
              "      <td>9.00</td>\n",
              "    </tr>\n",
              "    <tr>\n",
              "      <th>50%</th>\n",
              "      <td>16.32</td>\n",
              "    </tr>\n",
              "    <tr>\n",
              "      <th>75%</th>\n",
              "      <td>23.71</td>\n",
              "    </tr>\n",
              "    <tr>\n",
              "      <th>max</th>\n",
              "      <td>35.95</td>\n",
              "    </tr>\n",
              "  </tbody>\n",
              "</table>\n",
              "</div>\n",
              "      <button class=\"colab-df-convert\" onclick=\"convertToInteractive('df-d1c903ec-75f0-4573-935a-241588379cba')\"\n",
              "              title=\"Convert this dataframe to an interactive table.\"\n",
              "              style=\"display:none;\">\n",
              "        \n",
              "  <svg xmlns=\"http://www.w3.org/2000/svg\" height=\"24px\"viewBox=\"0 0 24 24\"\n",
              "       width=\"24px\">\n",
              "    <path d=\"M0 0h24v24H0V0z\" fill=\"none\"/>\n",
              "    <path d=\"M18.56 5.44l.94 2.06.94-2.06 2.06-.94-2.06-.94-.94-2.06-.94 2.06-2.06.94zm-11 1L8.5 8.5l.94-2.06 2.06-.94-2.06-.94L8.5 2.5l-.94 2.06-2.06.94zm10 10l.94 2.06.94-2.06 2.06-.94-2.06-.94-.94-2.06-.94 2.06-2.06.94z\"/><path d=\"M17.41 7.96l-1.37-1.37c-.4-.4-.92-.59-1.43-.59-.52 0-1.04.2-1.43.59L10.3 9.45l-7.72 7.72c-.78.78-.78 2.05 0 2.83L4 21.41c.39.39.9.59 1.41.59.51 0 1.02-.2 1.41-.59l7.78-7.78 2.81-2.81c.8-.78.8-2.07 0-2.86zM5.41 20L4 18.59l7.72-7.72 1.47 1.35L5.41 20z\"/>\n",
              "  </svg>\n",
              "      </button>\n",
              "      \n",
              "  <style>\n",
              "    .colab-df-container {\n",
              "      display:flex;\n",
              "      flex-wrap:wrap;\n",
              "      gap: 12px;\n",
              "    }\n",
              "\n",
              "    .colab-df-convert {\n",
              "      background-color: #E8F0FE;\n",
              "      border: none;\n",
              "      border-radius: 50%;\n",
              "      cursor: pointer;\n",
              "      display: none;\n",
              "      fill: #1967D2;\n",
              "      height: 32px;\n",
              "      padding: 0 0 0 0;\n",
              "      width: 32px;\n",
              "    }\n",
              "\n",
              "    .colab-df-convert:hover {\n",
              "      background-color: #E2EBFA;\n",
              "      box-shadow: 0px 1px 2px rgba(60, 64, 67, 0.3), 0px 1px 3px 1px rgba(60, 64, 67, 0.15);\n",
              "      fill: #174EA6;\n",
              "    }\n",
              "\n",
              "    [theme=dark] .colab-df-convert {\n",
              "      background-color: #3B4455;\n",
              "      fill: #D2E3FC;\n",
              "    }\n",
              "\n",
              "    [theme=dark] .colab-df-convert:hover {\n",
              "      background-color: #434B5C;\n",
              "      box-shadow: 0px 1px 3px 1px rgba(0, 0, 0, 0.15);\n",
              "      filter: drop-shadow(0px 1px 2px rgba(0, 0, 0, 0.3));\n",
              "      fill: #FFFFFF;\n",
              "    }\n",
              "  </style>\n",
              "\n",
              "      <script>\n",
              "        const buttonEl =\n",
              "          document.querySelector('#df-d1c903ec-75f0-4573-935a-241588379cba button.colab-df-convert');\n",
              "        buttonEl.style.display =\n",
              "          google.colab.kernel.accessAllowed ? 'block' : 'none';\n",
              "\n",
              "        async function convertToInteractive(key) {\n",
              "          const element = document.querySelector('#df-d1c903ec-75f0-4573-935a-241588379cba');\n",
              "          const dataTable =\n",
              "            await google.colab.kernel.invokeFunction('convertToInteractive',\n",
              "                                                     [key], {});\n",
              "          if (!dataTable) return;\n",
              "\n",
              "          const docLinkHtml = 'Like what you see? Visit the ' +\n",
              "            '<a target=\"_blank\" href=https://colab.research.google.com/notebooks/data_table.ipynb>data table notebook</a>'\n",
              "            + ' to learn more about interactive tables.';\n",
              "          element.innerHTML = '';\n",
              "          dataTable['output_type'] = 'display_data';\n",
              "          await google.colab.output.renderOutput(dataTable, element);\n",
              "          const docLink = document.createElement('div');\n",
              "          docLink.innerHTML = docLinkHtml;\n",
              "          element.appendChild(docLink);\n",
              "        }\n",
              "      </script>\n",
              "    </div>\n",
              "  </div>\n",
              "  "
            ]
          },
          "metadata": {},
          "execution_count": 8
        }
      ]
    },
    {
      "cell_type": "markdown",
      "source": [
        "# **1) Como está a evolução do meu faturamento em geral (todos os produtos)**"
      ],
      "metadata": {
        "id": "SzMYZ50dujZ8"
      }
    },
    {
      "cell_type": "code",
      "source": [
        "soma_valores = vendasdf['VALOR_VENDA'].sum()\n",
        "soma_arredondada = round(soma_valores, 2)\n",
        "print(\"A soma dos valores é:\", soma_arredondada)"
      ],
      "metadata": {
        "colab": {
          "base_uri": "https://localhost:8080/"
        },
        "id": "uOYn-ARnugfN",
        "outputId": "647eeb3d-cd3c-4966-ddb4-072a7933600a"
      },
      "execution_count": 9,
      "outputs": [
        {
          "output_type": "stream",
          "name": "stdout",
          "text": [
            "A soma dos valores é: 160383.88\n"
          ]
        }
      ]
    },
    {
      "cell_type": "markdown",
      "source": [
        "\n",
        "Valor identico ao do excel; \n",
        "![Captura de tela 2023-04-11 161712.png](data:image/png;base64,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)\n",
        "\n"
      ],
      "metadata": {
        "id": "uMPCuu9mwMDd"
      }
    },
    {
      "cell_type": "markdown",
      "source": [
        "# **2) Qual foi o meu melhor dia em vendas?**\n",
        "\n",
        "\n",
        "\n"
      ],
      "metadata": {
        "id": "hv4mdr-ywbqN"
      }
    },
    {
      "cell_type": "code",
      "source": [
        "grupo_por_dia = vendasdf.groupby(vendasdf['DATA'].dt.date).agg({'VALOR_VENDA': 'sum'})\n",
        "\n",
        "melhor_dia = grupo_por_dia.idxmax()[0]\n",
        "valor_vendas_melhor_dia = grupo_por_dia.max()[0]\n",
        "\n",
        "print('O melhor dia de venda foi:', melhor_dia)\n",
        "print('Com um total de vendas de R$', round(valor_vendas_melhor_dia, 2))"
      ],
      "metadata": {
        "colab": {
          "base_uri": "https://localhost:8080/"
        },
        "id": "wP9ViVMrwxF1",
        "outputId": "1f2d0dda-c271-4344-ba8c-6df55ff2ed1c"
      },
      "execution_count": 10,
      "outputs": [
        {
          "output_type": "stream",
          "name": "stdout",
          "text": [
            "O melhor dia de venda foi: 2021-10-26\n",
            "Com um total de vendas de R$ 2365.34\n"
          ]
        }
      ]
    },
    {
      "cell_type": "markdown",
      "source": [
        "# **3)Qual foi o dia em que eu mais vendi Bananas?**\n"
      ],
      "metadata": {
        "id": "VfeCQmgdy-wm"
      }
    },
    {
      "cell_type": "code",
      "source": [
        "# Filtra o DataFrame para incluir somente as linhas com ID_PRODUTO = 1\n",
        "df_filtrado = vendasdf[vendasdf['ID_PRODUTO'] == 1]\n",
        "\n",
        "# Agrupa o DataFrame filtrado por dia e soma a coluna 'VALOR_VENDA' de cada grupo\n",
        "grupo_por_dia = df_filtrado.groupby(df_filtrado['DATA'].dt.date).agg({'VALOR_VENDA': 'sum'})\n",
        "\n",
        "# Encontra o dia em que a soma foi maior\n",
        "melhor_dia = grupo_por_dia.idxmax()[0]\n",
        "valor_vendas_melhor_dia = grupo_por_dia.max()[0]\n",
        "\n",
        "print('O melhor dia de venda para o produto 1 foi:', melhor_dia)\n",
        "print('Com um total de vendas de R$', round(valor_vendas_melhor_dia, 2))"
      ],
      "metadata": {
        "colab": {
          "base_uri": "https://localhost:8080/"
        },
        "id": "BdlLCpm5zNdW",
        "outputId": "8f8c58be-c1ae-4c23-cde8-bd45e2101f51"
      },
      "execution_count": 11,
      "outputs": [
        {
          "output_type": "stream",
          "name": "stdout",
          "text": [
            "O melhor dia de venda para o produto 1 foi: 2021-10-28\n",
            "Com um total de vendas de R$ 291.72\n"
          ]
        }
      ]
    },
    {
      "cell_type": "markdown",
      "source": [
        "# **4)Qual produto eu vendo em maior quantidade (kg)?**"
      ],
      "metadata": {
        "id": "cKzmfLgz0dGn"
      }
    },
    {
      "cell_type": "code",
      "source": [
        "vendasdf['VALOR_VENDA'] = vendasdf['VALOR_VENDA'].astype(str)\n",
        "vendasdf['VALOR_VENDA'] = vendasdf['VALOR_VENDA'].str.replace(',', '.').astype(float)\n",
        "produtosdf[['PREÇO_KG', 'PESO_MEDIO_UNITARIO_KG']] = produtosdf[['PREÇO_KG', 'PESO_MEDIO_UNITARIO_KG']].apply(lambda x: x.str.replace(',', '.').astype(float))\n"
      ],
      "metadata": {
        "id": "1__0YnxE4Aqr"
      },
      "execution_count": 13,
      "outputs": []
    },
    {
      "cell_type": "code",
      "source": [
        "df = vendasdf.merge(produtosdf, on='ID_PRODUTO')\n",
        "\n",
        "df['QUANTIDADE_KG'] = df['VALOR_VENDA'] * df['PESO_MEDIO_UNITARIO_KG']\n",
        "\n",
        "quantidade_por_produto = df.groupby('NOME_PRODUTO')['QUANTIDADE_KG'].sum()\n",
        "\n",
        "produto_mais_vendido = quantidade_por_produto.idxmax()\n",
        "produto_mais_vendido"
      ],
      "metadata": {
        "colab": {
          "base_uri": "https://localhost:8080/",
          "height": 36
        },
        "id": "C3Duw-tS0ubv",
        "outputId": "c12f209b-c97a-4f68-bea0-1b5fb4bc6bf8"
      },
      "execution_count": 14,
      "outputs": [
        {
          "output_type": "execute_result",
          "data": {
            "text/plain": [
              "'Uva'"
            ],
            "application/vnd.google.colaboratory.intrinsic+json": {
              "type": "string"
            }
          },
          "metadata": {},
          "execution_count": 14
        }
      ]
    },
    {
      "cell_type": "markdown",
      "source": [
        "# **5)Quais estratégias você sugeriria para um faturamento maior?**"
      ],
      "metadata": {
        "id": "l41zdNLU5W6h"
      }
    },
    {
      "cell_type": "code",
      "source": [
        "#quantidade que cada produto lucrou em cada mês ordenando o mais vendido  \n",
        "\n",
        "df = vendasdf.merge(produtosdf, on='ID_PRODUTO')\n",
        "\n",
        "df['LUCRO'] = df['VALOR_VENDA'] * df['PESO_MEDIO_UNITARIO_KG'] - df['PREÇO_KG']\n",
        "\n",
        "df['DATA'] = pd.to_datetime(df['DATA'], format='%d/%m/%Y')\n",
        "\n",
        "df_grouped = df.groupby([df['DATA'].dt.month, 'NOME_PRODUTO'])['LUCRO'].sum().reset_index()\n",
        "\n",
        "df_sorted = df_grouped.sort_values(by='LUCRO', ascending=False)\n",
        "\n",
        "print(df_sorted)"
      ],
      "metadata": {
        "colab": {
          "base_uri": "https://localhost:8080/"
        },
        "id": "PvjGHYg_5iIZ",
        "outputId": "30fa5b24-64b6-42f1-ace1-3286bc340b4f"
      },
      "execution_count": 15,
      "outputs": [
        {
          "output_type": "stream",
          "name": "stdout",
          "text": [
            "    DATA NOME_PRODUTO         LUCRO\n",
            "29    10      Abacaxi   3153.773520\n",
            "15     9      Abacaxi   2943.122400\n",
            "3      8       Banana   2534.149000\n",
            "1      8      Abacaxi   2530.826400\n",
            "31    10       Banana   2283.249080\n",
            "17     9       Banana   2089.396800\n",
            "41    10          Uva    612.047220\n",
            "7      8        Limão    496.648480\n",
            "35    10        Limão    422.121440\n",
            "21     9        Limão    372.131400\n",
            "34    10      Laranja    143.429746\n",
            "6      8      Laranja    107.122720\n",
            "20     9      Laranja     97.595440\n",
            "36    10        Mamão     90.163200\n",
            "8      8        Mamão     77.774520\n",
            "22     9        Mamão     66.961800\n",
            "32    10         Caju    -69.230898\n",
            "18     9         Caju    -97.639230\n",
            "4      8         Caju    -97.747590\n",
            "27     9          Uva    -99.269100\n",
            "13     8          Uva   -192.310500\n",
            "40    10    Tangerina   -245.580840\n",
            "23     9         Maçã   -279.343100\n",
            "37    10         Maçã   -301.177660\n",
            "9      8         Maçã   -377.769200\n",
            "12     8    Tangerina   -382.214440\n",
            "26     9    Tangerina   -425.556240\n",
            "0      8      Abacate   -628.094000\n",
            "28    10      Abacate   -681.369200\n",
            "14     9      Abacate   -822.890000\n",
            "25     9      Pêssego  -1115.015250\n",
            "39    10      Pêssego  -1188.782994\n",
            "11     8      Pêssego  -1273.540710\n",
            "30    10       Ameixa  -2456.658470\n",
            "2      8       Ameixa  -2797.625950\n",
            "16     9       Ameixa  -2920.810200\n",
            "38    10         Pêra  -3418.626368\n",
            "24     9         Pêra  -3972.400550\n",
            "10     8         Pêra  -4157.789210\n",
            "33    10    Carambola  -9423.287800\n",
            "5      8    Carambola -11131.157000\n",
            "19     9    Carambola -11968.613000\n"
          ]
        }
      ]
    },
    {
      "cell_type": "markdown",
      "source": [
        "No dataset coletado em Agosto, Setembro e Outubro, as frutas Caju, Uva, Tangerina, Maçã, Abacate, Pêssego, Ameixa, Pêra e Carambola tiveram um saldo negativo. Para contornar esse problema, é possível fazer promoções com marketing para obter resultados mais positivos, desde que se saiba o preço adquirido do fornecedor para evitar prejuízos. No entanto, a Uva foi o único produto que teve resultado positivo no último mês, enquanto nos meses anteriores foi negativo. Laranja e Mamão mantiveram-se acima do negativo, mas ainda há espaço para melhorar os resultados.\n",
        "\n",
        "Minha sugestão é coletar dados adicionais, como o prazo de validade das frutas, o preço adquirido do fornecedor e outros gastos, e criar um algoritmo que sugira maneiras de estabilizar o preço antes que os produtos sejam completamente perdidos. Isso envolveria tentar vender as frutas o mais rápido e lucrativamente possível, sem perdas desnecessárias."
      ],
      "metadata": {
        "id": "U_aGDBAk8ME7"
      }
    }
  ]
}